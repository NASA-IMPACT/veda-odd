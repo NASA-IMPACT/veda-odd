{
 "cells": [
  {
   "cell_type": "code",
   "execution_count": 1,
   "id": "28b31628-5535-45a6-bf97-ba0a7568a8f7",
   "metadata": {},
   "outputs": [],
   "source": [
    "import concurrent.futures\n",
    "import json\n",
    "import xarray as xr\n",
    "\n",
    "import helpers\n",
    "from create_stac_item import create_stac_item"
   ]
  },
  {
   "cell_type": "code",
   "execution_count": 13,
   "id": "3b6f0244-b7ca-4363-ab37-d77841635822",
   "metadata": {},
   "outputs": [],
   "source": [
    "bucket = 'nasa-eodc-scratch'\n",
    "timechunks = '06'\n",
    "directory = f'NLDAS/netcdf/.timechunk{timechunks}'\n",
    "num_workers = 16"
   ]
  },
  {
   "cell_type": "code",
   "execution_count": null,
   "id": "75ea3ec5-4f00-4917-97cb-8347813a20d7",
   "metadata": {},
   "outputs": [],
   "source": [
    "credentials = helpers.get_credentials()\n",
    "s3fsfs = helpers.create_s3filesystem(credentials)\n",
    "s3fsfs"
   ]
  },
  {
   "cell_type": "code",
   "execution_count": 5,
   "id": "b86d4d8c-5bc7-4aa1-b94d-44fd2d60f9af",
   "metadata": {},
   "outputs": [],
   "source": [
    "files = s3fsfs.glob(f's3://{bucket}/{directory}/*.nc')"
   ]
  },
  {
   "cell_type": "code",
   "execution_count": 6,
   "id": "aca9ecb5-ca77-4193-8c4e-9fd218fe3aad",
   "metadata": {},
   "outputs": [
    {
     "data": {
      "text/plain": [
       "31"
      ]
     },
     "execution_count": 6,
     "metadata": {},
     "output_type": "execute_result"
    }
   ],
   "source": [
    "len(files)"
   ]
  },
  {
   "cell_type": "code",
   "execution_count": 7,
   "id": "586cf948-7e6f-430f-8603-a52ffccb0766",
   "metadata": {},
   "outputs": [
    {
     "name": "stdout",
     "output_type": "stream",
     "text": [
      "CPU times: user 1min 58s, sys: 56.9 s, total: 2min 55s\n",
      "Wall time: 19min 40s\n"
     ]
    }
   ],
   "source": [
    "%%time\n",
    "stac_items = []\n",
    "\n",
    "def open_and_generate_stac(file: str):\n",
    "    ds = xr.open_dataset(s3fsfs.open(f's3://{file}'), chunks={})\n",
    "    return create_stac_item(ds, f's3://{file}')\n",
    "\n",
    "with concurrent.futures.ThreadPoolExecutor(max_workers=num_workers) as executor:\n",
    "    stac_items = list(executor.map(open_and_generate_stac, files))"
   ]
  },
  {
   "cell_type": "code",
   "execution_count": 8,
   "id": "73ca236b-38c4-4a9a-b1e8-34fbb0320891",
   "metadata": {},
   "outputs": [
    {
     "data": {
      "text/plain": [
       "31"
      ]
     },
     "execution_count": 8,
     "metadata": {},
     "output_type": "execute_result"
    }
   ],
   "source": [
    "len(stac_items)"
   ]
  },
  {
   "cell_type": "code",
   "execution_count": 9,
   "id": "a149baae-f12f-424c-b251-5c13150bf729",
   "metadata": {},
   "outputs": [],
   "source": [
    "stac_items_as_dicts = []\n",
    "for stac_item in stac_items:\n",
    "    item_dict = stac_item.to_dict()\n",
    "    item_dict['properties'] = helpers.convert_numpy(item_dict['properties'])\n",
    "    stac_items_as_dicts.append(item_dict)"
   ]
  },
  {
   "cell_type": "code",
   "execution_count": 10,
   "id": "5d148e29-7de3-4512-b442-4b40142e332b",
   "metadata": {},
   "outputs": [],
   "source": [
    "stac_collection = {\n",
    "    \"type\": \"FeatureCollection\",\n",
    "    \"features\": stac_items_as_dicts\n",
    "}\n",
    "#stac_collection"
   ]
  },
  {
   "cell_type": "code",
   "execution_count": 14,
   "id": "66caf4e2-e165-47da-91f9-70b2eb05c935",
   "metadata": {},
   "outputs": [],
   "source": [
    "intake_filename = f'intake_{timechunks}.json'\n",
    "with open(intake_filename, 'w') as f:\n",
    "    f.write(json.dumps(stac_collection, indent=2))"
   ]
  },
  {
   "cell_type": "code",
   "execution_count": 15,
   "id": "fa4417e0-b2e7-4b2a-b06c-a530081367ae",
   "metadata": {},
   "outputs": [
    {
     "data": {
      "text/plain": [
       "[None]"
      ]
     },
     "execution_count": 15,
     "metadata": {},
     "output_type": "execute_result"
    }
   ],
   "source": [
    "s3fsfs.put(intake_filename, f's3://{bucket}/{directory}/{intake_filename}')"
   ]
  }
 ],
 "metadata": {
  "kernelspec": {
   "display_name": "Python 3 (ipykernel)",
   "language": "python",
   "name": "python3"
  },
  "language_info": {
   "codemirror_mode": {
    "name": "ipython",
    "version": 3
   },
   "file_extension": ".py",
   "mimetype": "text/x-python",
   "name": "python",
   "nbconvert_exporter": "python",
   "pygments_lexer": "ipython3",
   "version": "3.12.7"
  }
 },
 "nbformat": 4,
 "nbformat_minor": 5
}
